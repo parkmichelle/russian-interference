{
 "cells": [
  {
   "cell_type": "code",
   "execution_count": null,
   "metadata": {},
   "outputs": [],
   "source": [
    "import networkx as nx\n",
    "import pandas as pd\n",
    "import ast\n",
    "import matplotlib.pyplot as plt\n",
    "%matplotlib inline"
   ]
  },
  {
   "cell_type": "code",
   "execution_count": null,
   "metadata": {},
   "outputs": [],
   "source": [
    "data = pd.read_csv('../../../data/tweets.csv')\n",
    "data = data[['user_key', 'mentions', 'created_at']]"
   ]
  },
  {
   "cell_type": "code",
   "execution_count": null,
   "metadata": {},
   "outputs": [],
   "source": [
    "thing = ast.literal_eval(\"[1,2,3]\")\n",
    "thing.append('sup')\n",
    "thing"
   ]
  },
  {
   "cell_type": "code",
   "execution_count": null,
   "metadata": {},
   "outputs": [],
   "source": [
    "def createGraph(data, directed=False, only_trolls=False):\n",
    "    nodes = {}\n",
    "    edges = {}\n",
    "    G = nx.Graph()\n",
    "    trolls = set(list(data['user_key']))\n",
    "    if directed:\n",
    "        G = nx.DiGraph()\n",
    "    for index, row in data.iterrows():\n",
    "        if index % 10000 == 0:\n",
    "            print(index)\n",
    "        init_node = row['user_key']\n",
    "        if init_node not in nodes:\n",
    "            nodes[init_node] = {'start_date': row['created_at'], 'end_date': row['created_at']}\n",
    "            G.add_node(init_node, start_date=row['created_at'], end_date=row['created_at'])\n",
    "        else:\n",
    "            node_start_date = float(nodes[init_node]['start_date'])\n",
    "            node_end_date = float(nodes[init_node]['end_date'])\n",
    "            new_date = float(row['created_at'])\n",
    "            if new_date < node_start_date:\n",
    "                nx.set_node_attributes(G, {init_node: {'start_date':row['created_at']}})\n",
    "            if new_date > node_end_date:\n",
    "                nx.set_node_attributes(G, {init_node: {'end_date':row['created_at']}})\n",
    "        mentioned_list = ast.literal_eval(row['mentions'])\n",
    "        for user in mentioned_list:\n",
    "            if user not in nodes and (not only_trolls or user in trolls):\n",
    "                nodes[user] = {'start_date': row['created_at'], 'end_date': row['created_at']}\n",
    "                G.add_node(user, start_date=row['created_at'], end_date=row['created_at'])\n",
    "            elif user in nodes:\n",
    "                node_start_date = float(nodes[user]['start_date'])\n",
    "                node_end_date = float(nodes[user]['end_date'])\n",
    "                new_date = float(row['created_at'])\n",
    "                if new_date < node_start_date:\n",
    "                    nx.set_node_attributes(G, {user: {'start_date':row['created_at']}})\n",
    "                if new_date > node_end_date:\n",
    "                    nx.set_node_attributes(G, {user: {'end_date':row['created_at']}})\n",
    "            if (init_node, user) in edges:\n",
    "                weight = edges[(init_node, user)]['weight']\n",
    "                dates = edges[(init_node, user)]['dates']\n",
    "                dates.append(str(row['created_at']))\n",
    "                dates_string = ','.join(dates)\n",
    "                edges[(init_node, user)]['weight'] = weight+1\n",
    "                G.add_edge(init_node, user, date=dates_string, weight=weight+1)\n",
    "            else:\n",
    "                edges[(init_node, user)] = {'dates': [str(row['created_at'])], 'weight': 1}\n",
    "                G.add_edge(init_node, user, date=row['created_at'], weight=1)\n",
    "    return G"
   ]
  },
  {
   "cell_type": "code",
   "execution_count": null,
   "metadata": {},
   "outputs": [],
   "source": [
    "def getLargestWCC(G):\n",
    "    nodes_count = len(list(G.nodes))\n",
    "    edges_count = len(list(G.edges))\n",
    "    G.remove_nodes_from(list(nx.isolates(G)))\n",
    "    largest_cc = max(nx.connected_component_subgraphs(G), key=len)\n",
    "    print('Preserved nodes ', len(list(largest_cc.nodes))/nodes_count)\n",
    "    print('Preserved edges ', len(list(largest_cc.edges))/edges_count)\n",
    "    return largest_cc"
   ]
  },
  {
   "cell_type": "code",
   "execution_count": null,
   "metadata": {},
   "outputs": [],
   "source": [
    "def getSubsetofData(data, largest_cc):\n",
    "    nodes_in_cc = set(list(largest_cc.nodes))\n",
    "    added_nodes = {}\n",
    "    indexes_remove = []\n",
    "    for index, row in data.iterrows():\n",
    "        init_node = row['user_key']\n",
    "        found_in_cc = False\n",
    "        if init_node in nodes_in_cc:\n",
    "            continue\n",
    "        mentioned_list = ast.literal_eval(row['mentions'])\n",
    "        for user in mentioned_list:\n",
    "            if user in nodes_in_cc:\n",
    "                found_in_cc = True\n",
    "                break\n",
    "        if found_in_cc:\n",
    "            continue\n",
    "        indexes_remove.append(index)\n",
    "\n",
    "    return data.drop(indexes_remove)"
   ]
  },
  {
   "cell_type": "code",
   "execution_count": null,
   "metadata": {},
   "outputs": [],
   "source": [
    "def plotGraph(G, trolls_list, real_list, title='graph', no_labels=True):\n",
    "    fig = plt.figure(figsize=(80, 80))\n",
    "    pos = nx.spring_layout(G)\n",
    "    nx.draw_networkx_nodes(G, pos, nodelist=real_list, node_color='g', node_size=50)\n",
    "    nx.draw_networkx_nodes(G, pos, nodelist=trolls_list, node_color='r', node_size=100)\n",
    "    nx.draw_networkx_edges(G, pos, width=0.5, alpha=0.5)\n",
    "    if not no_labels:\n",
    "        nx.draw_networkx_labels(G, pos, font_size=8, font_weight='bold', font_color=\"b\")\n",
    "    plt.axis('equal') \n",
    "    plt.show()\n",
    "    fig.savefig(title + '.svg')\n",
    "    fig.savefig(title + '.png') "
   ]
  },
  {
   "cell_type": "markdown",
   "metadata": {},
   "source": [
    "# Undirected Graph (Largest WCC)"
   ]
  },
  {
   "cell_type": "code",
   "execution_count": null,
   "metadata": {
    "scrolled": true
   },
   "outputs": [],
   "source": [
    "G = createGraph(data)\n",
    "len(list(G.edges))\n",
    "len(list(G.nodes))"
   ]
  },
  {
   "cell_type": "code",
   "execution_count": null,
   "metadata": {},
   "outputs": [],
   "source": [
    "nx.get_node_attributes(G, 'start_date')['giselleevns']"
   ]
  },
  {
   "cell_type": "code",
   "execution_count": null,
   "metadata": {},
   "outputs": [],
   "source": [
    "G = createGraph(data)\n",
    "G = getLargestWCC(G)\n",
    "trolls_list = []\n",
    "real_list = []\n",
    "all_trolls = set(list(data['user_key']))\n",
    "for node in list(G.nodes):\n",
    "    if node in all_trolls:\n",
    "        trolls_list.append(node)\n",
    "    else:\n",
    "        real_list.append(node)\n",
    "plotGraph(G, trolls_list, real_list, title='undirectedGraph')"
   ]
  },
  {
   "cell_type": "markdown",
   "metadata": {},
   "source": [
    "## Only trolls"
   ]
  },
  {
   "cell_type": "code",
   "execution_count": null,
   "metadata": {
    "scrolled": true
   },
   "outputs": [],
   "source": [
    "G = createGraph(data, only_trolls=True)\n",
    "G = getLargestWCC(G)\n",
    "print(len(list(G.nodes)), len(list(G.edges)))\n",
    "trolls_list = []\n",
    "real_list = []\n",
    "all_trolls = set(list(data['user_key']))\n",
    "for node in list(G.nodes):\n",
    "    if node in all_trolls:\n",
    "        trolls_list.append(node)\n",
    "    else:\n",
    "        real_list.append(node)\n",
    "plotGraph(G, trolls_list, real_list, title='only_trolls_undirected_labels_wcc', no_labels=False)"
   ]
  },
  {
   "cell_type": "markdown",
   "metadata": {},
   "source": [
    "# Directed Graph (Largest WCC)"
   ]
  },
  {
   "cell_type": "code",
   "execution_count": null,
   "metadata": {},
   "outputs": [],
   "source": [
    "G = createGraph(data)\n",
    "G = getLargestWCC(G)\n",
    "wcc_data = getSubsetofData(data, G)\n",
    "G = createGraph(wcc_data, directed=True)\n",
    "trolls_list = []\n",
    "real_list = []\n",
    "all_trolls = set(list(wcc_data['user_key']))\n",
    "for node in list(G.nodes):\n",
    "    if node in all_trolls:\n",
    "        trolls_list.append(node)\n",
    "    else:\n",
    "        real_list.append(node)\n",
    "plotGraph(G, trolls_list, real_list, title='directedGraph')"
   ]
  },
  {
   "cell_type": "markdown",
   "metadata": {},
   "source": [
    "## Only trolls"
   ]
  },
  {
   "cell_type": "code",
   "execution_count": null,
   "metadata": {},
   "outputs": [],
   "source": [
    "G = createGraph(data, only_trolls=True)\n",
    "G = getLargestWCC(G)\n",
    "wcc_data = getSubsetofData(data, G)\n",
    "G = createGraph(wcc_data, directed=True, only_trolls=True)\n",
    "print(len(list(G.nodes)), len(list(G.edges)))\n",
    "trolls_list = []\n",
    "real_list = []\n",
    "all_trolls = set(list(wcc_data['user_key']))\n",
    "for node in list(G.nodes):\n",
    "    if node in all_trolls:\n",
    "        trolls_list.append(node)\n",
    "    else:\n",
    "        real_list.append(node)\n",
    "plotGraph(G, trolls_list, real_list, title='only_trolls_directed_labels_wcc', no_labels=False)"
   ]
  },
  {
   "cell_type": "markdown",
   "metadata": {},
   "source": [
    "# Things to do\n",
    "* Look at the most connected node\n",
    "* Degrees of separation\n",
    "* What about the other WCCs?\n",
    "* Any fake users vs real users disparities?\n",
    "* How much does the largest WCC account for in terms of nodes and edges?"
   ]
  },
  {
   "cell_type": "code",
   "execution_count": null,
   "metadata": {},
   "outputs": [],
   "source": [
    "def subtractGraph(full, sub):\n",
    "    print(len(full.nodes))\n",
    "    remove_nodes = []\n",
    "    for node in full.nodes:\n",
    "        if node in sub:\n",
    "            remove_nodes.append(node)\n",
    "    full.remove_nodes_from(remove_nodes)\n",
    "    print(len(full.nodes))\n",
    "    return full"
   ]
  },
  {
   "cell_type": "code",
   "execution_count": null,
   "metadata": {},
   "outputs": [],
   "source": [
    "#Network of trolls not connected to the trolls' largest WCC\n",
    "G_full = createGraph(data, only_trolls=True)\n",
    "G_WCC = getLargestWCC(G_full)\n",
    "other_data = getSubsetofData(data, G_WCC)\n",
    "G_other = createGraph(other_data, directed=True)\n",
    "trolls_list = []\n",
    "real_list = []\n",
    "all_trolls = set(list(other_data['user_key']))\n",
    "for node in list(G_other.nodes):\n",
    "    if node in all_trolls:\n",
    "        trolls_list.append(node)\n",
    "    else:\n",
    "        real_list.append(node)\n",
    "plotGraph(G_other, trolls_list, real_list, title='newThing_test', no_labels=False)"
   ]
  },
  {
   "cell_type": "code",
   "execution_count": null,
   "metadata": {
    "scrolled": true
   },
   "outputs": [],
   "source": [
    "G = createGraph(data)\n",
    "G = getLargestWCC(G)\n",
    "wcc_data = getSubsetofData(data, G)\n",
    "G_WCC = createGraph(wcc_data, directed=True) #Need this\n",
    "\n",
    "data = pd.read_csv('../../../data/tweets.csv')\n",
    "data = data[['user_key', 'mentions', 'created_at']]\n",
    "G = createGraph(data, directed=True)\n",
    "G_Other = subtractGraph(G, G_WCC) #Need this\n",
    "\n",
    "G_trolls = createGraph(data, only_trolls=True)\n",
    "G_trolls = getLargestWCC(G_trolls)\n",
    "trolls_wcc_data = getSubsetofData(data, G_trolls)\n",
    "G_trolls_WCC = createGraph(trolls_wcc_data, directed=True) #Need this\n",
    "\n",
    "data = pd.read_csv('../../../data/tweets.csv')\n",
    "data = data[['user_key', 'mentions', 'created_at']]\n",
    "G_trolls = createGraph(data, directed=True, only_trolls=True)\n",
    "G_trolls_Other = subtractGraph(G_trolls, G_trolls_WCC) #Need this\n",
    "\n",
    "G = createGraph(data, directed=True)\n",
    "G_trolls = createGraph(data, only_trolls=True, directed=True)\n",
    "trolls_list = []\n",
    "real_list = []\n",
    "all_trolls = set(list(data['user_key']))\n",
    "for node in list(G.nodes):\n",
    "    if node in all_trolls:\n",
    "        trolls_list.append(node)\n",
    "    else:\n",
    "        real_list.append(node)\n",
    "# plotGraph(G, trolls_list, real_list, title='only_trolls_undirected_labels_wcc', no_labels=False)"
   ]
  },
  {
   "cell_type": "code",
   "execution_count": null,
   "metadata": {},
   "outputs": [],
   "source": [
    "import json\n",
    "data = {\"nodes\": [], \"links\": []}\n",
    "start_dates=nx.get_node_attributes(G, 'start_date')\n",
    "end_dates=nx.get_node_attributes(G, 'end_date')\n",
    "edge_dates=nx.get_edge_attributes(G, 'date')\n",
    "edge_weights = nx.get_edge_attributes(G, 'weight')\n",
    "\n",
    "G_WCC_nodes = set(G_WCC.nodes)\n",
    "G_Other_nodes = set(G_Other.nodes)\n",
    "G_trolls_WCC_nodes = set(G_trolls_WCC.nodes)\n",
    "G_trolls_Other_nodes = set(G_trolls_Other.nodes)\n",
    "for node in list(G.nodes):\n",
    "    group_1 = 'real'\n",
    "    wcc = 0\n",
    "    other = 0\n",
    "    troll_wcc = 0\n",
    "    troll_other = 0\n",
    "    if node in G_WCC_nodes:\n",
    "        wcc = 1\n",
    "    if node in G_Other_nodes:\n",
    "        other = 1\n",
    "    if node in G_trolls_WCC_nodes:\n",
    "        troll_wcc = 1\n",
    "    if node in G_trolls_Other_nodes:\n",
    "        troll_other = 1\n",
    "    if node in all_trolls:\n",
    "        group_1 = 'troll'\n",
    "    data['nodes'].append({'id': node, 'type': group_1, 'count': G.degree(node),\n",
    "                          'start_date': start_dates[node], 'end_date': end_dates[node],\n",
    "                          'wcc': wcc, 'other': other, 'troll_wcc': troll_wcc, 'troll_other': troll_other})\n",
    "    \n",
    "G_WCC_edges = set(G_WCC.edges)\n",
    "G_Other_edges = set(G_Other.edges)\n",
    "G_trolls_WCC_edges = set(G_trolls_WCC.edges)\n",
    "G_trolls_Other_edges = set(G_trolls_Other.edges)\n",
    "G_trolls_edges = set(G_trolls.edges)\n",
    "for edge in list(G.edges):\n",
    "    group_1 = 'real'\n",
    "    count = min(G.degree(edge[0]), G.degree(edge[1]))\n",
    "    dates = \"[\" + str(edge_dates[edge]) + \"]\"\n",
    "    wcc = 0\n",
    "    other = 0\n",
    "    troll_wcc = 0\n",
    "    troll_other = 0\n",
    "    if node in G_WCC_edges:\n",
    "        wcc = 1\n",
    "    if node in G_Other_edges:\n",
    "        other = 1\n",
    "    if node in G_trolls_WCC_edges:\n",
    "        troll_wcc = 1\n",
    "    if node in G_trolls_Other_edges:\n",
    "        troll_other = 1\n",
    "    if edge[0] in all_trolls and edge[1] in all_trolls:\n",
    "        group_1 = 'troll'\n",
    "    data['links'].append({\"source\": edge[0], \"target\": edge[1], \"weight\": edge_weights[edge], \"dates\": dates,\n",
    "                          \"type\": group_1, 'wcc': wcc, 'other': other, 'troll_wcc': troll_wcc, 'troll_other': troll_other,\n",
    "                          \"count\": count})\n",
    "with open('graph_data.json', 'w') as outfile:\n",
    "    json.dump(data, outfile)"
   ]
  },
  {
   "cell_type": "code",
   "execution_count": null,
   "metadata": {},
   "outputs": [],
   "source": [
    "edge_weights"
   ]
  },
  {
   "cell_type": "code",
   "execution_count": null,
   "metadata": {},
   "outputs": [],
   "source": [
    "G = createGraph(data)\n",
    "G = getLargestWCC(G)\n",
    "wcc_data = getSubsetofData(data, G)\n",
    "G = createGraph(wcc_data, directed=True)"
   ]
  },
  {
   "cell_type": "code",
   "execution_count": null,
   "metadata": {},
   "outputs": [],
   "source": [
    "len(list(G.nodes))"
   ]
  },
  {
   "cell_type": "code",
   "execution_count": null,
   "metadata": {},
   "outputs": [],
   "source": [
    "counter = 0\n",
    "little_mention = 0\n",
    "for node in G.nodes:\n",
    "    if node not in all_trolls:\n",
    "        counter += 1\n",
    "        if G.degree(node) < 2:\n",
    "            little_mention += 1\n",
    "print(counter)\n",
    "print(little_mention)"
   ]
  },
  {
   "cell_type": "markdown",
   "metadata": {},
   "source": [
    "troll v real user, troll in the largest wcc, non-trolls with 2+ mentions, overview of all (not important)"
   ]
  },
  {
   "cell_type": "code",
   "execution_count": null,
   "metadata": {},
   "outputs": [],
   "source": []
  }
 ],
 "metadata": {
  "kernelspec": {
   "display_name": "Python 3",
   "language": "python",
   "name": "python3"
  },
  "language_info": {
   "codemirror_mode": {
    "name": "ipython",
    "version": 3
   },
   "file_extension": ".py",
   "mimetype": "text/x-python",
   "name": "python",
   "nbconvert_exporter": "python",
   "pygments_lexer": "ipython3",
   "version": "3.6.4"
  }
 },
 "nbformat": 4,
 "nbformat_minor": 2
}
