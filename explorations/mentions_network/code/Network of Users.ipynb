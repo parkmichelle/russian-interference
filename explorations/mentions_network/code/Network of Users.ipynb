{
 "cells": [
  {
   "cell_type": "code",
   "execution_count": 1,
   "metadata": {},
   "outputs": [],
   "source": [
    "import networkx as nx\n",
    "import pandas as pd\n",
    "import ast\n",
    "%matplotlib inline"
   ]
  },
  {
   "cell_type": "code",
   "execution_count": 2,
   "metadata": {},
   "outputs": [],
   "source": [
    "data = pd.read_csv('../../data/tweets.csv')"
   ]
  },
  {
   "cell_type": "code",
   "execution_count": 3,
   "metadata": {},
   "outputs": [],
   "source": [
    "data = data[['user_key', 'mentions']]\n",
    "num_rows = len(data['user_key'])"
   ]
  },
  {
   "cell_type": "code",
   "execution_count": 4,
   "metadata": {},
   "outputs": [],
   "source": [
    "nodes = {}\n",
    "G = nx.Graph()\n",
    "for index, row in data.iterrows():\n",
    "    init_node = row['user_key']\n",
    "    if init_node not in nodes:\n",
    "        nodes[init_node] = 1\n",
    "        G.add_node(init_node)\n",
    "    mentioned_list = ast.literal_eval(row['mentions'])\n",
    "    for user in mentioned_list:\n",
    "        if user not in nodes:\n",
    "            nodes[user] = 1\n",
    "            G.add_node(user)\n",
    "        G.add_edge(init_node, user)"
   ]
  },
  {
   "cell_type": "code",
   "execution_count": 5,
   "metadata": {},
   "outputs": [],
   "source": [
    "G.remove_nodes_from(list(nx.isolates(G)))\n",
    "largest_cc = max(nx.connected_component_subgraphs(G), key=len)"
   ]
  },
  {
   "cell_type": "code",
   "execution_count": 6,
   "metadata": {},
   "outputs": [],
   "source": [
    "nodes_in_cc = set(list(largest_cc.nodes))\n",
    "added_nodes = {}\n",
    "indexes_remove = []\n",
    "for index, row in data.iterrows():\n",
    "    init_node = row['user_key']\n",
    "    found_in_cc = False\n",
    "    if init_node in nodes_in_cc:\n",
    "        continue\n",
    "    mentioned_list = ast.literal_eval(row['mentions'])\n",
    "    for user in mentioned_list:\n",
    "        if user in nodes_in_cc:\n",
    "            found_in_cc = True\n",
    "            break\n",
    "    if found_in_cc:\n",
    "        continue\n",
    "    indexes_remove.append(index)\n",
    "\n",
    "data = data.drop(indexes_remove)"
   ]
  },
  {
   "cell_type": "code",
   "execution_count": 8,
   "metadata": {},
   "outputs": [],
   "source": [
    "nodes = {}\n",
    "directedG = nx.DiGraph()\n",
    "for index, row in data.iterrows():\n",
    "    init_node = row['user_key']\n",
    "    if init_node not in nodes:\n",
    "        nodes[init_node] = 1\n",
    "        directedG.add_node(init_node)\n",
    "    mentioned_list = ast.literal_eval(row['mentions'])\n",
    "    for user in mentioned_list:\n",
    "        if user not in nodes:\n",
    "            nodes[user] = 1\n",
    "            directedG.add_node(user)\n",
    "        directedG.add_edge(init_node, user)"
   ]
  },
  {
   "cell_type": "code",
   "execution_count": null,
   "metadata": {},
   "outputs": [],
   "source": [
    "import matplotlib.pyplot as plt\n",
    "fig = plt.figure(figsize=(400, 400)) \n",
    "nx.draw(directedG, with_labels=True, font_weight='bold')\n",
    "plt.axis('equal') \n",
    "plt.show()\n",
    "fig.savefig('directedGraph.svg')\n",
    "fig.savefig('directedGraph.png') "
   ]
  },
  {
   "cell_type": "code",
   "execution_count": null,
   "metadata": {},
   "outputs": [],
   "source": [
    "plt.show()"
   ]
  },
  {
   "cell_type": "markdown",
   "metadata": {},
   "source": [
    "# Things to do\n",
    "* Look at the most connected node\n",
    "* Degrees of separation\n",
    "* What about the other WCCs?\n",
    "* Any fake users vs real users disparities?\n",
    "* How much does the largest WCC account for in terms of nodes and edges?"
   ]
  },
  {
   "cell_type": "code",
   "execution_count": null,
   "metadata": {},
   "outputs": [],
   "source": []
  }
 ],
 "metadata": {
  "kernelspec": {
   "display_name": "Python 3",
   "language": "python",
   "name": "python3"
  },
  "language_info": {
   "codemirror_mode": {
    "name": "ipython",
    "version": 3
   },
   "file_extension": ".py",
   "mimetype": "text/x-python",
   "name": "python",
   "nbconvert_exporter": "python",
   "pygments_lexer": "ipython3",
   "version": "3.6.4"
  }
 },
 "nbformat": 4,
 "nbformat_minor": 2
}
