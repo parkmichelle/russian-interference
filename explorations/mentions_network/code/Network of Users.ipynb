{
 "cells": [
  {
   "cell_type": "code",
   "execution_count": 1,
   "metadata": {},
   "outputs": [],
   "source": [
    "import networkx as nx\n",
    "import pandas as pd\n",
    "import ast\n",
    "import matplotlib.pyplot as plt\n",
    "%matplotlib inline"
   ]
  },
  {
   "cell_type": "code",
   "execution_count": 2,
   "metadata": {},
   "outputs": [],
   "source": [
    "data = pd.read_csv('../../../data/tweets.csv')"
   ]
  },
  {
   "cell_type": "code",
   "execution_count": 42,
   "metadata": {},
   "outputs": [
    {
     "data": {
      "text/plain": [
       "203482"
      ]
     },
     "execution_count": 42,
     "metadata": {},
     "output_type": "execute_result"
    }
   ],
   "source": [
    "data = data[['user_key', 'mentions', 'created_at']]\n",
    "len(data)"
   ]
  },
  {
   "cell_type": "code",
   "execution_count": 50,
   "metadata": {},
   "outputs": [],
   "source": [
    "def createGraph(data, directed=False, only_trolls=False):\n",
    "    nodes = {}\n",
    "    G = nx.Graph()\n",
    "    trolls = set(list(data['user_key']))\n",
    "    if directed:\n",
    "        G = nx.DiGraph()\n",
    "    for index, row in data.iterrows():\n",
    "        if index % 10000 == 0:\n",
    "            print(index)\n",
    "        init_node = row['user_key']\n",
    "        if init_node not in nodes:\n",
    "            nodes[init_node] = {'start_date': row['created_at'], 'end_date': row['created_at']}\n",
    "            G.add_node(init_node, start_date=row['created_at'], end_date=row['created_at'])\n",
    "        else:\n",
    "            node_start_date = float(nodes[init_node]['start_date'])\n",
    "            node_end_date = float(nodes[init_node]['end_date'])\n",
    "            new_date = float(row['created_at'])\n",
    "            if new_date < node_start_date:\n",
    "                nx.set_node_attributes(G, {init_node: {'start_date':row['created_at']}})\n",
    "            if new_date > node_end_date:\n",
    "                nx.set_node_attributes(G, {init_node: {'end_date':row['created_at']}})\n",
    "        mentioned_list = ast.literal_eval(row['mentions'])\n",
    "        for user in mentioned_list:\n",
    "            if user not in nodes and (not only_trolls or user in trolls):\n",
    "                nodes[user] = {'start_date': row['created_at'], 'end_date': row['created_at']}\n",
    "                G.add_node(user, start_date=row['created_at'], end_date=row['created_at'])\n",
    "            elif user in nodes:\n",
    "                node_start_date = float(nodes[user]['start_date'])\n",
    "                node_end_date = float(nodes[user]['end_date'])\n",
    "                new_date = float(row['created_at'])\n",
    "                if new_date < node_start_date:\n",
    "                    nx.set_node_attributes(G, {user: {'start_date':row['created_at']}})\n",
    "                if new_date > node_end_date:\n",
    "                    nx.set_node_attributes(G, {user: {'end_date':row['created_at']}})\n",
    "            if not only_trolls or user in trolls:\n",
    "                G.add_edge(init_node, user, date=row['created_at'])\n",
    "    return G"
   ]
  },
  {
   "cell_type": "code",
   "execution_count": 20,
   "metadata": {},
   "outputs": [],
   "source": [
    "def getLargestWCC(G):\n",
    "    nodes_count = len(list(G.nodes))\n",
    "    edges_count = len(list(G.edges))\n",
    "    G.remove_nodes_from(list(nx.isolates(G)))\n",
    "    largest_cc = max(nx.connected_component_subgraphs(G), key=len)\n",
    "    print('Preserved nodes ', len(list(largest_cc.nodes))/nodes_count)\n",
    "    print('Preserved edges ', len(list(largest_cc.edges))/edges_count)\n",
    "    return largest_cc"
   ]
  },
  {
   "cell_type": "code",
   "execution_count": 21,
   "metadata": {},
   "outputs": [],
   "source": [
    "def getSubsetofData(data, largest_cc):\n",
    "    nodes_in_cc = set(list(largest_cc.nodes))\n",
    "    added_nodes = {}\n",
    "    indexes_remove = []\n",
    "    for index, row in data.iterrows():\n",
    "        init_node = row['user_key']\n",
    "        found_in_cc = False\n",
    "        if init_node in nodes_in_cc:\n",
    "            continue\n",
    "        mentioned_list = ast.literal_eval(row['mentions'])\n",
    "        for user in mentioned_list:\n",
    "            if user in nodes_in_cc:\n",
    "                found_in_cc = True\n",
    "                break\n",
    "        if found_in_cc:\n",
    "            continue\n",
    "        indexes_remove.append(index)\n",
    "\n",
    "    return data.drop(indexes_remove)"
   ]
  },
  {
   "cell_type": "code",
   "execution_count": 22,
   "metadata": {},
   "outputs": [],
   "source": [
    "def plotGraph(G, trolls_list, real_list, title='graph', no_labels=True):\n",
    "    fig = plt.figure(figsize=(80, 80))\n",
    "    pos = nx.spring_layout(G)\n",
    "    nx.draw_networkx_nodes(G, pos, nodelist=real_list, node_color='g', node_size=50)\n",
    "    nx.draw_networkx_nodes(G, pos, nodelist=trolls_list, node_color='r', node_size=100)\n",
    "    nx.draw_networkx_edges(G, pos, width=0.5, alpha=0.5)\n",
    "    if not no_labels:\n",
    "        nx.draw_networkx_labels(G, pos, font_size=8, font_weight='bold', font_color=\"b\")\n",
    "    plt.axis('equal') \n",
    "    plt.show()\n",
    "    fig.savefig(title + '.svg')\n",
    "    fig.savefig(title + '.png') "
   ]
  },
  {
   "cell_type": "markdown",
   "metadata": {},
   "source": [
    "# Undirected Graph (Largest WCC)"
   ]
  },
  {
   "cell_type": "code",
   "execution_count": 51,
   "metadata": {
    "scrolled": true
   },
   "outputs": [
    {
     "name": "stdout",
     "output_type": "stream",
     "text": [
      "0\n",
      "10000\n",
      "20000\n",
      "30000\n",
      "40000\n",
      "50000\n",
      "60000\n",
      "70000\n",
      "80000\n",
      "90000\n",
      "100000\n",
      "110000\n",
      "120000\n",
      "130000\n",
      "140000\n",
      "150000\n",
      "160000\n",
      "170000\n",
      "180000\n",
      "190000\n",
      "200000\n"
     ]
    },
    {
     "data": {
      "text/plain": [
       "14276"
      ]
     },
     "execution_count": 51,
     "metadata": {},
     "output_type": "execute_result"
    }
   ],
   "source": [
    "G = createGraph(data)\n",
    "len(list(G.edges))\n",
    "len(list(G.nodes))"
   ]
  },
  {
   "cell_type": "code",
   "execution_count": 38,
   "metadata": {},
   "outputs": [
    {
     "data": {
      "text/plain": [
       "1435331383000.0"
      ]
     },
     "execution_count": 38,
     "metadata": {},
     "output_type": "execute_result"
    }
   ],
   "source": [
    "nx.get_node_attributes(G, 'start_date')['giselleevns']"
   ]
  },
  {
   "cell_type": "code",
   "execution_count": null,
   "metadata": {},
   "outputs": [],
   "source": [
    "G = createGraph(data)\n",
    "G = getLargestWCC(G)\n",
    "trolls_list = []\n",
    "real_list = []\n",
    "all_trolls = set(list(data['user_key']))\n",
    "for node in list(G.nodes):\n",
    "    if node in all_trolls:\n",
    "        trolls_list.append(node)\n",
    "    else:\n",
    "        real_list.append(node)\n",
    "plotGraph(G, trolls_list, real_list, title='undirectedGraph')"
   ]
  },
  {
   "cell_type": "markdown",
   "metadata": {},
   "source": [
    "## Only trolls"
   ]
  },
  {
   "cell_type": "code",
   "execution_count": null,
   "metadata": {
    "scrolled": true
   },
   "outputs": [],
   "source": [
    "G = createGraph(data, only_trolls=True)\n",
    "G = getLargestWCC(G)\n",
    "print(len(list(G.nodes)), len(list(G.edges)))\n",
    "trolls_list = []\n",
    "real_list = []\n",
    "all_trolls = set(list(data['user_key']))\n",
    "for node in list(G.nodes):\n",
    "    if node in all_trolls:\n",
    "        trolls_list.append(node)\n",
    "    else:\n",
    "        real_list.append(node)\n",
    "plotGraph(G, trolls_list, real_list, title='only_trolls_undirected_labels_wcc', no_labels=False)"
   ]
  },
  {
   "cell_type": "markdown",
   "metadata": {},
   "source": [
    "# Directed Graph (Largest WCC)"
   ]
  },
  {
   "cell_type": "code",
   "execution_count": null,
   "metadata": {},
   "outputs": [],
   "source": [
    "G = createGraph(data)\n",
    "G = getLargestWCC(G)\n",
    "wcc_data = getSubsetofData(data, G)\n",
    "G = createGraph(wcc_data, directed=True)\n",
    "trolls_list = []\n",
    "real_list = []\n",
    "all_trolls = set(list(wcc_data['user_key']))\n",
    "for node in list(G.nodes):\n",
    "    if node in all_trolls:\n",
    "        trolls_list.append(node)\n",
    "    else:\n",
    "        real_list.append(node)\n",
    "plotGraph(G, trolls_list, real_list, title='directedGraph')"
   ]
  },
  {
   "cell_type": "markdown",
   "metadata": {},
   "source": [
    "## Only trolls"
   ]
  },
  {
   "cell_type": "code",
   "execution_count": null,
   "metadata": {},
   "outputs": [],
   "source": [
    "G = createGraph(data, only_trolls=True)\n",
    "G = getLargestWCC(G)\n",
    "wcc_data = getSubsetofData(data, G)\n",
    "G = createGraph(wcc_data, directed=True, only_trolls=True)\n",
    "print(len(list(G.nodes)), len(list(G.edges)))\n",
    "trolls_list = []\n",
    "real_list = []\n",
    "all_trolls = set(list(wcc_data['user_key']))\n",
    "for node in list(G.nodes):\n",
    "    if node in all_trolls:\n",
    "        trolls_list.append(node)\n",
    "    else:\n",
    "        real_list.append(node)\n",
    "plotGraph(G, trolls_list, real_list, title='only_trolls_directed_labels_wcc', no_labels=False)"
   ]
  },
  {
   "cell_type": "markdown",
   "metadata": {},
   "source": [
    "# Things to do\n",
    "* Look at the most connected node\n",
    "* Degrees of separation\n",
    "* What about the other WCCs?\n",
    "* Any fake users vs real users disparities?\n",
    "* How much does the largest WCC account for in terms of nodes and edges?"
   ]
  },
  {
   "cell_type": "code",
   "execution_count": 52,
   "metadata": {},
   "outputs": [],
   "source": [
    "def subtractGraph(full, sub):\n",
    "    print(len(full.nodes))\n",
    "    remove_nodes = []\n",
    "    for node in full.nodes:\n",
    "        if node in sub:\n",
    "            remove_nodes.append(node)\n",
    "    full.remove_nodes_from(remove_nodes)\n",
    "    print(len(full.nodes))\n",
    "    return full"
   ]
  },
  {
   "cell_type": "code",
   "execution_count": null,
   "metadata": {},
   "outputs": [],
   "source": [
    "#Network of trolls not connected to the trolls' largest WCC\n",
    "G_full = createGraph(data, only_trolls=True)\n",
    "G_WCC = getLargestWCC(G_full)\n",
    "G_full = createGraph(data, only_trolls=True)\n",
    "G_other = subtractGraph(G_full, G_WCC)\n",
    "other_data = getSubsetofData(data, G_other)\n",
    "G_other = createGraph(other_data, directed=True)\n",
    "trolls_list = []\n",
    "real_list = []\n",
    "all_trolls = set(list(other_data['user_key']))\n",
    "for node in list(G_other.nodes):\n",
    "    if node in all_trolls:\n",
    "        trolls_list.append(node)\n",
    "    else:\n",
    "        real_list.append(node)\n",
    "plotGraph(G_other, trolls_list, real_list, title='newThing_test', no_labels=False)"
   ]
  },
  {
   "cell_type": "code",
   "execution_count": 53,
   "metadata": {
    "scrolled": true
   },
   "outputs": [
    {
     "name": "stdout",
     "output_type": "stream",
     "text": [
      "0\n",
      "10000\n",
      "20000\n",
      "30000\n",
      "40000\n",
      "50000\n",
      "60000\n",
      "70000\n",
      "80000\n",
      "90000\n",
      "100000\n",
      "110000\n",
      "120000\n",
      "130000\n",
      "140000\n",
      "150000\n",
      "160000\n",
      "170000\n",
      "180000\n",
      "190000\n",
      "200000\n",
      "Preserved nodes  0.9898430933034463\n",
      "Preserved edges  0.999396900066341\n",
      "0\n",
      "10000\n",
      "20000\n",
      "60000\n",
      "70000\n",
      "80000\n",
      "90000\n",
      "110000\n",
      "120000\n",
      "130000\n",
      "150000\n",
      "160000\n",
      "170000\n",
      "180000\n",
      "190000\n",
      "200000\n",
      "0\n",
      "10000\n",
      "20000\n",
      "30000\n",
      "40000\n",
      "50000\n",
      "60000\n",
      "70000\n",
      "80000\n",
      "90000\n",
      "100000\n",
      "110000\n",
      "120000\n",
      "130000\n",
      "140000\n",
      "150000\n",
      "160000\n",
      "170000\n",
      "180000\n",
      "190000\n",
      "200000\n",
      "Preserved nodes  0.2687224669603524\n",
      "Preserved edges  0.9662921348314607\n",
      "10000\n",
      "60000\n",
      "70000\n",
      "80000\n",
      "90000\n",
      "110000\n",
      "130000\n",
      "150000\n",
      "160000\n",
      "170000\n",
      "200000\n",
      "0\n",
      "10000\n",
      "20000\n",
      "30000\n",
      "40000\n",
      "50000\n",
      "60000\n",
      "70000\n",
      "80000\n",
      "90000\n",
      "100000\n",
      "110000\n",
      "120000\n",
      "130000\n",
      "140000\n",
      "150000\n",
      "160000\n",
      "170000\n",
      "180000\n",
      "190000\n",
      "200000\n",
      "0\n",
      "10000\n",
      "20000\n",
      "30000\n",
      "40000\n",
      "50000\n",
      "60000\n",
      "70000\n",
      "80000\n",
      "90000\n",
      "100000\n",
      "110000\n",
      "120000\n",
      "130000\n",
      "140000\n",
      "150000\n",
      "160000\n",
      "170000\n",
      "180000\n",
      "190000\n",
      "200000\n"
     ]
    }
   ],
   "source": [
    "G = createGraph(data)\n",
    "G = getLargestWCC(G)\n",
    "wcc_data = getSubsetofData(data, G)\n",
    "G_WCC = createGraph(wcc_data, directed=True)\n",
    "G = createGraph(data, only_trolls=True)\n",
    "G = getLargestWCC(G)\n",
    "wcc_data = getSubsetofData(data, G)\n",
    "G_WCC_trolls = createGraph(wcc_data, only_trolls=True, directed=True)\n",
    "G = createGraph(data)\n",
    "G_trolls = createGraph(data, only_trolls=True)\n",
    "trolls_list = []\n",
    "real_list = []\n",
    "all_trolls = set(list(data['user_key']))\n",
    "for node in list(G.nodes):\n",
    "    if node in all_trolls:\n",
    "        trolls_list.append(node)\n",
    "    else:\n",
    "        real_list.append(node)\n",
    "# plotGraph(G, trolls_list, real_list, title='only_trolls_undirected_labels_wcc', no_labels=False)"
   ]
  },
  {
   "cell_type": "code",
   "execution_count": 56,
   "metadata": {},
   "outputs": [
    {
     "name": "stdout",
     "output_type": "stream",
     "text": [
      "1469787955000.0\n"
     ]
    }
   ],
   "source": [
    "import json\n",
    "data = {\"nodes\": [], \"links\": []}\n",
    "start_dates=nx.get_node_attributes(G, 'start_date')\n",
    "end_dates=nx.get_node_attributes(G, 'end_date')\n",
    "edge_dates=nx.get_edge_attributes(G, 'date')\n",
    "for node in list(G.nodes):\n",
    "    group_1 = 'real'\n",
    "    if node in all_trolls:\n",
    "        group_1 = 'troll'\n",
    "    if G.degree(node) > 1:\n",
    "    data['nodes'].append({'id': node, 'type': group_1, 'count': G.degree(node),\n",
    "                          'start_date': start_dates[node], 'end_date': end_dates[node],\n",
    "                          ''})\n",
    "for edge in list(G.edges):\n",
    "    group_1 = 'real'\n",
    "    group_2 = 'minor'\n",
    "    if edge[0] in all_trolls and edge[1] in all_trolls:\n",
    "        group_1 = 'troll'\n",
    "    if G.degree(edge[0]) > 1 and G.degree(edge[1]) > 1:\n",
    "        group_2 = 'major'\n",
    "    data['links'].append({\"source\": edge[0], \"target\": edge[1], \"value\": 1, \"group_1\": group_1, \"group_2\": group_2,})\n",
    "with open('graph_data.json', 'w') as outfile:\n",
    "    json.dump(data, outfile)"
   ]
  },
  {
   "cell_type": "code",
   "execution_count": null,
   "metadata": {},
   "outputs": [],
   "source": [
    "G = createGraph(data)\n",
    "G = getLargestWCC(G)\n",
    "wcc_data = getSubsetofData(data, G)\n",
    "G = createGraph(wcc_data, directed=True)"
   ]
  },
  {
   "cell_type": "code",
   "execution_count": null,
   "metadata": {},
   "outputs": [],
   "source": [
    "len(list(G.nodes))"
   ]
  },
  {
   "cell_type": "code",
   "execution_count": null,
   "metadata": {},
   "outputs": [],
   "source": [
    "counter = 0\n",
    "little_mention = 0\n",
    "for node in G.nodes:\n",
    "    if node not in all_trolls:\n",
    "        counter += 1\n",
    "        if G.degree(node) < 2:\n",
    "            little_mention += 1\n",
    "print(counter)\n",
    "print(little_mention)"
   ]
  },
  {
   "cell_type": "markdown",
   "metadata": {},
   "source": [
    "troll v real user, troll in the largest wcc, non-trolls with 2+ mentions, overview of all (not important)"
   ]
  },
  {
   "cell_type": "code",
   "execution_count": null,
   "metadata": {},
   "outputs": [],
   "source": []
  }
 ],
 "metadata": {
  "kernelspec": {
   "display_name": "Python 3",
   "language": "python",
   "name": "python3"
  },
  "language_info": {
   "codemirror_mode": {
    "name": "ipython",
    "version": 3
   },
   "file_extension": ".py",
   "mimetype": "text/x-python",
   "name": "python",
   "nbconvert_exporter": "python",
   "pygments_lexer": "ipython3",
   "version": "3.6.4"
  }
 },
 "nbformat": 4,
 "nbformat_minor": 2
}
